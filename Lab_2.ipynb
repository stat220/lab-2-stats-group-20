{
  "cells": [
    {
      "cell_type": "markdown",
      "metadata": {},
      "source": [
        "# STAT 220: Lab 2, Red Dragon Inn"
      ]
    },
    {
      "cell_type": "markdown",
      "metadata": {
        "id": "FrPnTPDUjTob"
      },
      "source": [
        "In Dungeons and Dragons, the notation mdn denotes the process of rolling m dice, each with n sides. Here, rolling two six-sided dice is expressed as 2d6, and rolling three eight-sided dice is denoted by 3d8. You are tasked with creating a utility to assist players in the following two scenarios:\n",
        "\n",
        "A. Calculating the probability of rolling m dice, each with n sides, and having the sum of the dice be greater than x. This calculation should only be implemented for m = 1 through 4 and n is at most 20.\n",
        "\n",
        "B. Determining the probability of rolling m dice, each with n sides, and having at least one die show a value greater than or equal to x.\n",
        "\n",
        "Your task is to develop two functions, one for each scenario, where users can input values for m , n, and x to compute the required probability. Ensure to document your code well, with comments that effectively guide users through each step of the computation process."
      ]
    },
    {
      "cell_type": "markdown",
      "metadata": {},
      "source": [
        "## Probability Functions"
      ]
    },
    {
      "cell_type": "code",
      "execution_count": 42,
      "metadata": {
        "colab": {
          "base_uri": "https://localhost:8080/"
        },
        "id": "8Ng9vOlsjRgJ",
        "outputId": "7deabbeb-0bc3-4854-e4bf-938a9eceb678"
      },
      "outputs": [
        {
          "name": "stdout",
          "output_type": "stream",
          "text": [
            "0.5833333333333334\n",
            "0.8888888888888888\n"
          ]
        }
      ],
      "source": [
        "import itertools\n",
        "import numpy as np\n",
        "\n",
        "def ProbGreaterThanX(m, n, x):\n",
        "  # Create a list of all possible rolls of m dice with n sides\n",
        "  rolls = list(itertools.product(range(1, n+1), repeat=m))\n",
        "  # Calculate the sum of each roll\n",
        "  sums = np.array([sum(roll) for roll in rolls])\n",
        "  # Calculate the proportion of rolls that have a sum greater than or equal to x\n",
        "  return np.mean(sums >= x)\n",
        "\n",
        "def ProbAtLeastOneGreaterThanX(m, n, x):\n",
        "  # Create a list of all possible rolls of m dice with n sides\n",
        "  rolls = [list(roll) for roll in itertools.product(range(1, n + 1), repeat=m)]\n",
        "  success = []\n",
        "  for roll in rolls:\n",
        "        if max(roll) >= x:\n",
        "            success.append(1)\n",
        "        else:\n",
        "            success.append(0)\n",
        "  return np.mean(success)\n",
        "\n",
        "print(ProbGreaterThanX(2, 6, 7))\n",
        "print(ProbAtLeastOneGreaterThanX(2, 6, 3))"
      ]
    },
    {
      "cell_type": "markdown",
      "metadata": {
        "id": "AGxsMgSArvZM"
      },
      "source": [
        "## Evaluate the performance\n",
        "of your tool using the following scenario:\n",
        "A player is in a challenging situation where they have a choice. They can choose between the following challenges:\n",
        "\n",
        "• Roll 1d20 and get a result of 17 or more\n",
        "\n",
        "• Roll 3d4 and get a result of 10 or more\n",
        "\n",
        "• Roll 4d6 and have at least one dice show a 6\n",
        "\n",
        "\n",
        "Use your tool to compute the probabilities and report the best choice for the player."
      ]
    },
    {
      "cell_type": "code",
      "execution_count": 44,
      "metadata": {
        "colab": {
          "base_uri": "https://localhost:8080/"
        },
        "id": "Gh6TtYNPq_kH",
        "outputId": "9e78be4e-d01b-4c7c-8f19-ba236099cb9c"
      },
      "outputs": [
        {
          "name": "stdout",
          "output_type": "stream",
          "text": [
            "Challenge 1:  0.2\n",
            "Challenge 2:  0.15625\n",
            "Challenge 3:  0.5177469135802469\n"
          ]
        }
      ],
      "source": [
        "print(\"Challenge 1: \", ProbGreaterThanX(1, 20, 17))\n",
        "print(\"Challenge 2: \", ProbGreaterThanX(3, 4, 10))\n",
        "print(\"Challenge 3: \", ProbAtLeastOneGreaterThanX(4, 6, 6))"
      ]
    },
    {
      "cell_type": "markdown",
      "metadata": {},
      "source": [
        "**Response:** Based on the results, I would recommend the player to choose the challenge of rolling 4d6 and having at least one die show a 6. This challenge has the highest probability of success at 51.77%. The first two challenges have probabilities of only 20% and 15.63%, respectively."
      ]
    }
  ],
  "metadata": {
    "colab": {
      "provenance": []
    },
    "kernelspec": {
      "display_name": "Python 3",
      "name": "python3"
    },
    "language_info": {
      "name": "python"
    }
  },
  "nbformat": 4,
  "nbformat_minor": 0
}
