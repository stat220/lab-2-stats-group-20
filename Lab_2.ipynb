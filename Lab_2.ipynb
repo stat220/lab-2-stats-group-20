{
  "nbformat": 4,
  "nbformat_minor": 0,
  "metadata": {
    "colab": {
      "provenance": []
    },
    "kernelspec": {
      "name": "python3",
      "display_name": "Python 3"
    },
    "language_info": {
      "name": "python"
    }
  },
  "cells": [
    {
      "cell_type": "markdown",
      "source": [
        "In Dungeons and Dragons, the notation mdn denotes the process of rolling m dice, each with n sides. Here, rolling two six-sided dice is expressed as 2d6, and rolling three eight-sided dice is denoted by 3d8. You are tasked with creating a utility to assist players in the following two scenarios:\n",
        "\n",
        "\n",
        "# A\n",
        "Calculating the probability of rolling m dice, each with n sides, and having the sum of the dice be greater than x. This calculation should only be implemented for m = 1 through 4 and n is at most 20.\n",
        "# B\n",
        "Determining the probability of rolling m dice, each with n sides, and having at least one die show a value greater than or equal to x.\n"
      ],
      "metadata": {
        "id": "FrPnTPDUjTob"
      }
    },
    {
      "cell_type": "markdown",
      "source": [
        "Your task is to develop two functions, one for each scenario, where users can input values for m , n, and x to compute the required probability. Ensure to document your code well, with comments that effectively guide users through each step of the computation process.\n",
        "\n",
        "Here’s a hint to help you get started with computing probabilities in Python. The following code snippet shows how to calculate the probability of rolling a sum greater than or equal to a specific target using three six-sided dice (3d6):"
      ],
      "metadata": {
        "id": "UWJ6gK7Ijmqp"
      }
    },
    {
      "cell_type": "code",
      "execution_count": 42,
      "metadata": {
        "colab": {
          "base_uri": "https://localhost:8080/"
        },
        "id": "8Ng9vOlsjRgJ",
        "outputId": "7deabbeb-0bc3-4854-e4bf-938a9eceb678"
      },
      "outputs": [
        {
          "output_type": "stream",
          "name": "stdout",
          "text": [
            "0.5833333333333334\n",
            "0.8888888888888888\n"
          ]
        }
      ],
      "source": [
        "import itertools\n",
        "import pandas as pd\n",
        "import numpy as np\n",
        "\n",
        "\n",
        "def ProbGreaterThanX(m, n, x):\n",
        "  # Create a list of all possible rolls of m dice with n sides\n",
        "  rolls = list(itertools.product(range(1, n+1), repeat=m))\n",
        "  # Calculate the sum of each roll\n",
        "  sums = np.array([sum(roll) for roll in rolls])\n",
        "  # Calculate the proportion of rolls that have a sum greater than or equal to x\n",
        "  return np.mean(sums >= x)\n",
        "\n",
        "def ProbAtLeastOneGreaterThanX(m, n, x):\n",
        "  # Create a list of all possible rolls of m dice with n sides\n",
        "  rolls = [list(roll) for roll in itertools.product(range(1, n + 1), repeat=m)]\n",
        "  success = []\n",
        "  for roll in rolls:\n",
        "        if max(roll) >= x:\n",
        "            success.append(1)\n",
        "        else:\n",
        "            success.append(0)\n",
        "  return np.mean(success)\n",
        "\n",
        "print(ProbGreaterThanX(2, 6, 7))\n",
        "print(ProbAtLeastOneGreaterThanX(2, 6, 3))\n",
        "\n"
      ]
    },
    {
      "cell_type": "markdown",
      "source": [
        "# Evaluate the performance\n",
        "of your tool using the following scenario:\n",
        "A player is in a challenging situation where they have a choice. They can choose between the following challenges:\n",
        "\n",
        "• Roll 1d20 and get a result of 17 or more\n",
        "\n",
        "• Roll 3d4 and get a result of 10 or more\n",
        "\n",
        "• Roll 4d6 and have at least one dice show a 6\n",
        "\n",
        "\n",
        "Use your tool to compute the probabilities and report the best choice for the player."
      ],
      "metadata": {
        "id": "AGxsMgSArvZM"
      }
    },
    {
      "cell_type": "code",
      "source": [
        "print(\"Challenge 1: \", ProbGreaterThanX(1, 20, 17))\n",
        "print(\"Challenge 2: \", ProbGreaterThanX(3, 4, 10))\n",
        "print(\"Challenge 3: \", ProbAtLeastOneGreaterThanX(4, 6, 6))"
      ],
      "metadata": {
        "colab": {
          "base_uri": "https://localhost:8080/"
        },
        "id": "Gh6TtYNPq_kH",
        "outputId": "9e78be4e-d01b-4c7c-8f19-ba236099cb9c"
      },
      "execution_count": 44,
      "outputs": [
        {
          "output_type": "stream",
          "name": "stdout",
          "text": [
            "Challenge 1:  0.2\n",
            "Challenge 2:  0.15625\n",
            "Challenge 3:  0.5177469135802469\n"
          ]
        }
      ]
    }
  ]
}